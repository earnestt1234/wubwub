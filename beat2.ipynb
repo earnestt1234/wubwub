{
 "cells": [
  {
   "cell_type": "code",
   "execution_count": 1,
   "id": "8998cf2f",
   "metadata": {},
   "outputs": [],
   "source": [
    "import wubwub as wb\n",
    "import wubwub.sounds as snd\n",
    "\n"
   ]
  },
  {
   "cell_type": "code",
   "execution_count": 2,
   "id": "ac3e10ed",
   "metadata": {},
   "outputs": [],
   "source": [
    "guitar = snd.load('guitar')"
   ]
  },
  {
   "cell_type": "code",
   "execution_count": 3,
   "id": "35fb5dbd",
   "metadata": {
    "scrolled": true
   },
   "outputs": [],
   "source": [
    "wb.play(guitar['electric_pluck'])"
   ]
  },
  {
   "cell_type": "code",
   "execution_count": 10,
   "id": "999129e0",
   "metadata": {},
   "outputs": [],
   "source": [
    "seq = wb.Sequencer(bpm=160, beats=16)\n",
    "\n",
    "pluck = seq.add_sampler(guitar['electric_pluck'])\n",
    "pluck.make_notes_every(freq=.5, pitches=[0] * 7 + [-4] * 9, volumes = [0, -2])\n",
    "\n",
    "seq.play()"
   ]
  }
 ],
 "metadata": {
  "kernelspec": {
   "display_name": "Python 3",
   "language": "python",
   "name": "python3"
  },
  "language_info": {
   "codemirror_mode": {
    "name": "ipython",
    "version": 3
   },
   "file_extension": ".py",
   "mimetype": "text/x-python",
   "name": "python",
   "nbconvert_exporter": "python",
   "pygments_lexer": "ipython3",
   "version": "3.8.8"
  }
 },
 "nbformat": 4,
 "nbformat_minor": 5
}
